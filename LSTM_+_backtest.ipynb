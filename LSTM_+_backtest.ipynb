{
  "nbformat": 4,
  "nbformat_minor": 0,
  "metadata": {
    "colab": {
      "provenance": [],
      "gpuType": "T4"
    },
    "kernelspec": {
      "name": "python3",
      "display_name": "Python 3"
    },
    "language_info": {
      "name": "python"
    },
    "accelerator": "GPU"
  },
  "cells": [
    {
      "cell_type": "code",
      "execution_count": null,
      "metadata": {
        "id": "UkDh6AyWf6Gr"
      },
      "outputs": [],
      "source": [
        "!pip install databento\n",
        "!pip install --upgrade ipykernel"
      ]
    },
    {
      "cell_type": "code",
      "source": [
        "# Gym stuff\n",
        "import tensorflow as tf\n",
        "import databento as db\n",
        "\n",
        "# Processing libraries\n",
        "import numpy as np\n",
        "import pandas as pd\n",
        "from matplotlib import pyplot as plt\n",
        "\n",
        "from google.colab import drive\n",
        "drive.mount('/content/test')"
      ],
      "metadata": {
        "id": "dLEMTbQ4gFw0",
        "colab": {
          "base_uri": "https://localhost:8080/"
        },
        "outputId": "3753fbc6-d62d-443b-d1f0-5bc298dd7531"
      },
      "execution_count": 1,
      "outputs": [
        {
          "output_type": "stream",
          "name": "stderr",
          "text": [
            "2024-02-11 12:42:08.079393: E external/local_xla/xla/stream_executor/cuda/cuda_dnn.cc:9261] Unable to register cuDNN factory: Attempting to register factory for plugin cuDNN when one has already been registered\n",
            "2024-02-11 12:42:08.079524: E external/local_xla/xla/stream_executor/cuda/cuda_fft.cc:607] Unable to register cuFFT factory: Attempting to register factory for plugin cuFFT when one has already been registered\n",
            "2024-02-11 12:42:08.087259: E external/local_xla/xla/stream_executor/cuda/cuda_blas.cc:1515] Unable to register cuBLAS factory: Attempting to register factory for plugin cuBLAS when one has already been registered\n",
            "2024-02-11 12:42:08.109946: I tensorflow/core/platform/cpu_feature_guard.cc:182] This TensorFlow binary is optimized to use available CPU instructions in performance-critical operations.\n",
            "To enable the following instructions: AVX2 FMA, in other operations, rebuild TensorFlow with the appropriate compiler flags.\n",
            "2024-02-11 12:42:12.831461: W tensorflow/compiler/tf2tensorrt/utils/py_utils.cc:38] TF-TRT Warning: Could not find TensorRT\n"
          ]
        },
        {
          "output_type": "stream",
          "name": "stdout",
          "text": [
            "Drive already mounted at /content/test; to attempt to forcibly remount, call drive.mount(\"/content/test\", force_remount=True).\n"
          ]
        }
      ]
    },
    {
      "cell_type": "code",
      "source": [
        "valid_stock = [\"INTC\", \"AAPL\", \"GOOGL\", \"TSLA\", \"NVDA\"]\n",
        "stock = \"none\"\n",
        "while(stock not in valid_stock):\n",
        "  stock = input(\"Enter Stock: \")\n",
        "  if (stock not in valid_stock):\n",
        "    print(\"Try again these are our options: \", valid_stock)"
      ],
      "metadata": {
        "colab": {
          "base_uri": "https://localhost:8080/"
        },
        "id": "dIYNxx3gEkQx",
        "outputId": "fc544476-1216-49ac-db80-5d1391eb1985"
      },
      "execution_count": 25,
      "outputs": [
        {
          "name": "stdout",
          "output_type": "stream",
          "text": [
            "Enter Stock: hitest\n",
            "Try again these are our options:  ['INTC', 'AAPL', 'GOOGL', 'TSLA', 'NVDA']\n",
            "Enter Stock: INTC\n"
          ]
        }
      ]
    },
    {
      "cell_type": "code",
      "source": [
        "chunk_size = 100000\n",
        "file_path = \"test/MyDrive/\" + stock + \".dbn\"\n",
        "df_iter = db.DBNStore.from_file(file_path).to_df(count = chunk_size)\n"
      ],
      "metadata": {
        "id": "3K1W28UTqUY6"
      },
      "execution_count": 26,
      "outputs": []
    },
    {
      "cell_type": "markdown",
      "source": [],
      "metadata": {
        "id": "S6EQsQT-r0ka"
      }
    },
    {
      "cell_type": "code",
      "source": [
        "df = next(df_iter)"
      ],
      "metadata": {
        "id": "nq0g6Ts1SZWu"
      },
      "execution_count": 27,
      "outputs": []
    },
    {
      "cell_type": "code",
      "source": [
        "df.reset_index(inplace = True)\n",
        "df = df[[\"ts_event\",\"open\",\"high\",\"low\",\"close\",\"volume\"]]\n",
        "df = df.rename(columns={'ts_event': 'Date'})\n",
        "df.columns = [col.capitalize() for col in df.columns]\n",
        "\n",
        "df['Date'] = pd.to_datetime(df['Date'])\n",
        "df.set_index('Date', inplace=True)\n",
        "df.head()"
      ],
      "metadata": {
        "colab": {
          "base_uri": "https://localhost:8080/",
          "height": 237
        },
        "id": "theAw4yor2A8",
        "outputId": "49cfa857-018f-4cec-b418-72d9f6e33f38"
      },
      "execution_count": 28,
      "outputs": [
        {
          "output_type": "execute_result",
          "data": {
            "text/plain": [
              "                            Open   High    Low  Close  Volume\n",
              "Date                                                         \n",
              "2018-12-14 11:47:48+00:00  64.60  64.60  64.60  64.60       1\n",
              "2018-12-14 11:47:49+00:00  64.59  64.59  64.59  64.59     200\n",
              "2018-12-14 11:48:59+00:00  64.59  64.59  64.59  64.59      10\n",
              "2018-12-14 12:00:00+00:00  64.59  64.59  64.54  64.54     150\n",
              "2018-12-14 12:01:25+00:00  64.49  64.49  64.49  64.49      50"
            ],
            "text/html": [
              "\n",
              "  <div id=\"df-f0128b1e-985d-427f-a19d-4526aeb1ba27\" class=\"colab-df-container\">\n",
              "    <div>\n",
              "<style scoped>\n",
              "    .dataframe tbody tr th:only-of-type {\n",
              "        vertical-align: middle;\n",
              "    }\n",
              "\n",
              "    .dataframe tbody tr th {\n",
              "        vertical-align: top;\n",
              "    }\n",
              "\n",
              "    .dataframe thead th {\n",
              "        text-align: right;\n",
              "    }\n",
              "</style>\n",
              "<table border=\"1\" class=\"dataframe\">\n",
              "  <thead>\n",
              "    <tr style=\"text-align: right;\">\n",
              "      <th></th>\n",
              "      <th>Open</th>\n",
              "      <th>High</th>\n",
              "      <th>Low</th>\n",
              "      <th>Close</th>\n",
              "      <th>Volume</th>\n",
              "    </tr>\n",
              "    <tr>\n",
              "      <th>Date</th>\n",
              "      <th></th>\n",
              "      <th></th>\n",
              "      <th></th>\n",
              "      <th></th>\n",
              "      <th></th>\n",
              "    </tr>\n",
              "  </thead>\n",
              "  <tbody>\n",
              "    <tr>\n",
              "      <th>2018-12-14 11:47:48+00:00</th>\n",
              "      <td>64.60</td>\n",
              "      <td>64.60</td>\n",
              "      <td>64.60</td>\n",
              "      <td>64.60</td>\n",
              "      <td>1</td>\n",
              "    </tr>\n",
              "    <tr>\n",
              "      <th>2018-12-14 11:47:49+00:00</th>\n",
              "      <td>64.59</td>\n",
              "      <td>64.59</td>\n",
              "      <td>64.59</td>\n",
              "      <td>64.59</td>\n",
              "      <td>200</td>\n",
              "    </tr>\n",
              "    <tr>\n",
              "      <th>2018-12-14 11:48:59+00:00</th>\n",
              "      <td>64.59</td>\n",
              "      <td>64.59</td>\n",
              "      <td>64.59</td>\n",
              "      <td>64.59</td>\n",
              "      <td>10</td>\n",
              "    </tr>\n",
              "    <tr>\n",
              "      <th>2018-12-14 12:00:00+00:00</th>\n",
              "      <td>64.59</td>\n",
              "      <td>64.59</td>\n",
              "      <td>64.54</td>\n",
              "      <td>64.54</td>\n",
              "      <td>150</td>\n",
              "    </tr>\n",
              "    <tr>\n",
              "      <th>2018-12-14 12:01:25+00:00</th>\n",
              "      <td>64.49</td>\n",
              "      <td>64.49</td>\n",
              "      <td>64.49</td>\n",
              "      <td>64.49</td>\n",
              "      <td>50</td>\n",
              "    </tr>\n",
              "  </tbody>\n",
              "</table>\n",
              "</div>\n",
              "    <div class=\"colab-df-buttons\">\n",
              "\n",
              "  <div class=\"colab-df-container\">\n",
              "    <button class=\"colab-df-convert\" onclick=\"convertToInteractive('df-f0128b1e-985d-427f-a19d-4526aeb1ba27')\"\n",
              "            title=\"Convert this dataframe to an interactive table.\"\n",
              "            style=\"display:none;\">\n",
              "\n",
              "  <svg xmlns=\"http://www.w3.org/2000/svg\" height=\"24px\" viewBox=\"0 -960 960 960\">\n",
              "    <path d=\"M120-120v-720h720v720H120Zm60-500h600v-160H180v160Zm220 220h160v-160H400v160Zm0 220h160v-160H400v160ZM180-400h160v-160H180v160Zm440 0h160v-160H620v160ZM180-180h160v-160H180v160Zm440 0h160v-160H620v160Z\"/>\n",
              "  </svg>\n",
              "    </button>\n",
              "\n",
              "  <style>\n",
              "    .colab-df-container {\n",
              "      display:flex;\n",
              "      gap: 12px;\n",
              "    }\n",
              "\n",
              "    .colab-df-convert {\n",
              "      background-color: #E8F0FE;\n",
              "      border: none;\n",
              "      border-radius: 50%;\n",
              "      cursor: pointer;\n",
              "      display: none;\n",
              "      fill: #1967D2;\n",
              "      height: 32px;\n",
              "      padding: 0 0 0 0;\n",
              "      width: 32px;\n",
              "    }\n",
              "\n",
              "    .colab-df-convert:hover {\n",
              "      background-color: #E2EBFA;\n",
              "      box-shadow: 0px 1px 2px rgba(60, 64, 67, 0.3), 0px 1px 3px 1px rgba(60, 64, 67, 0.15);\n",
              "      fill: #174EA6;\n",
              "    }\n",
              "\n",
              "    .colab-df-buttons div {\n",
              "      margin-bottom: 4px;\n",
              "    }\n",
              "\n",
              "    [theme=dark] .colab-df-convert {\n",
              "      background-color: #3B4455;\n",
              "      fill: #D2E3FC;\n",
              "    }\n",
              "\n",
              "    [theme=dark] .colab-df-convert:hover {\n",
              "      background-color: #434B5C;\n",
              "      box-shadow: 0px 1px 3px 1px rgba(0, 0, 0, 0.15);\n",
              "      filter: drop-shadow(0px 1px 2px rgba(0, 0, 0, 0.3));\n",
              "      fill: #FFFFFF;\n",
              "    }\n",
              "  </style>\n",
              "\n",
              "    <script>\n",
              "      const buttonEl =\n",
              "        document.querySelector('#df-f0128b1e-985d-427f-a19d-4526aeb1ba27 button.colab-df-convert');\n",
              "      buttonEl.style.display =\n",
              "        google.colab.kernel.accessAllowed ? 'block' : 'none';\n",
              "\n",
              "      async function convertToInteractive(key) {\n",
              "        const element = document.querySelector('#df-f0128b1e-985d-427f-a19d-4526aeb1ba27');\n",
              "        const dataTable =\n",
              "          await google.colab.kernel.invokeFunction('convertToInteractive',\n",
              "                                                    [key], {});\n",
              "        if (!dataTable) return;\n",
              "\n",
              "        const docLinkHtml = 'Like what you see? Visit the ' +\n",
              "          '<a target=\"_blank\" href=https://colab.research.google.com/notebooks/data_table.ipynb>data table notebook</a>'\n",
              "          + ' to learn more about interactive tables.';\n",
              "        element.innerHTML = '';\n",
              "        dataTable['output_type'] = 'display_data';\n",
              "        await google.colab.output.renderOutput(dataTable, element);\n",
              "        const docLink = document.createElement('div');\n",
              "        docLink.innerHTML = docLinkHtml;\n",
              "        element.appendChild(docLink);\n",
              "      }\n",
              "    </script>\n",
              "  </div>\n",
              "\n",
              "\n",
              "<div id=\"df-dc74e542-9a17-4764-a381-4f6fbb6bcdd9\">\n",
              "  <button class=\"colab-df-quickchart\" onclick=\"quickchart('df-dc74e542-9a17-4764-a381-4f6fbb6bcdd9')\"\n",
              "            title=\"Suggest charts\"\n",
              "            style=\"display:none;\">\n",
              "\n",
              "<svg xmlns=\"http://www.w3.org/2000/svg\" height=\"24px\"viewBox=\"0 0 24 24\"\n",
              "     width=\"24px\">\n",
              "    <g>\n",
              "        <path d=\"M19 3H5c-1.1 0-2 .9-2 2v14c0 1.1.9 2 2 2h14c1.1 0 2-.9 2-2V5c0-1.1-.9-2-2-2zM9 17H7v-7h2v7zm4 0h-2V7h2v10zm4 0h-2v-4h2v4z\"/>\n",
              "    </g>\n",
              "</svg>\n",
              "  </button>\n",
              "\n",
              "<style>\n",
              "  .colab-df-quickchart {\n",
              "      --bg-color: #E8F0FE;\n",
              "      --fill-color: #1967D2;\n",
              "      --hover-bg-color: #E2EBFA;\n",
              "      --hover-fill-color: #174EA6;\n",
              "      --disabled-fill-color: #AAA;\n",
              "      --disabled-bg-color: #DDD;\n",
              "  }\n",
              "\n",
              "  [theme=dark] .colab-df-quickchart {\n",
              "      --bg-color: #3B4455;\n",
              "      --fill-color: #D2E3FC;\n",
              "      --hover-bg-color: #434B5C;\n",
              "      --hover-fill-color: #FFFFFF;\n",
              "      --disabled-bg-color: #3B4455;\n",
              "      --disabled-fill-color: #666;\n",
              "  }\n",
              "\n",
              "  .colab-df-quickchart {\n",
              "    background-color: var(--bg-color);\n",
              "    border: none;\n",
              "    border-radius: 50%;\n",
              "    cursor: pointer;\n",
              "    display: none;\n",
              "    fill: var(--fill-color);\n",
              "    height: 32px;\n",
              "    padding: 0;\n",
              "    width: 32px;\n",
              "  }\n",
              "\n",
              "  .colab-df-quickchart:hover {\n",
              "    background-color: var(--hover-bg-color);\n",
              "    box-shadow: 0 1px 2px rgba(60, 64, 67, 0.3), 0 1px 3px 1px rgba(60, 64, 67, 0.15);\n",
              "    fill: var(--button-hover-fill-color);\n",
              "  }\n",
              "\n",
              "  .colab-df-quickchart-complete:disabled,\n",
              "  .colab-df-quickchart-complete:disabled:hover {\n",
              "    background-color: var(--disabled-bg-color);\n",
              "    fill: var(--disabled-fill-color);\n",
              "    box-shadow: none;\n",
              "  }\n",
              "\n",
              "  .colab-df-spinner {\n",
              "    border: 2px solid var(--fill-color);\n",
              "    border-color: transparent;\n",
              "    border-bottom-color: var(--fill-color);\n",
              "    animation:\n",
              "      spin 1s steps(1) infinite;\n",
              "  }\n",
              "\n",
              "  @keyframes spin {\n",
              "    0% {\n",
              "      border-color: transparent;\n",
              "      border-bottom-color: var(--fill-color);\n",
              "      border-left-color: var(--fill-color);\n",
              "    }\n",
              "    20% {\n",
              "      border-color: transparent;\n",
              "      border-left-color: var(--fill-color);\n",
              "      border-top-color: var(--fill-color);\n",
              "    }\n",
              "    30% {\n",
              "      border-color: transparent;\n",
              "      border-left-color: var(--fill-color);\n",
              "      border-top-color: var(--fill-color);\n",
              "      border-right-color: var(--fill-color);\n",
              "    }\n",
              "    40% {\n",
              "      border-color: transparent;\n",
              "      border-right-color: var(--fill-color);\n",
              "      border-top-color: var(--fill-color);\n",
              "    }\n",
              "    60% {\n",
              "      border-color: transparent;\n",
              "      border-right-color: var(--fill-color);\n",
              "    }\n",
              "    80% {\n",
              "      border-color: transparent;\n",
              "      border-right-color: var(--fill-color);\n",
              "      border-bottom-color: var(--fill-color);\n",
              "    }\n",
              "    90% {\n",
              "      border-color: transparent;\n",
              "      border-bottom-color: var(--fill-color);\n",
              "    }\n",
              "  }\n",
              "</style>\n",
              "\n",
              "  <script>\n",
              "    async function quickchart(key) {\n",
              "      const quickchartButtonEl =\n",
              "        document.querySelector('#' + key + ' button');\n",
              "      quickchartButtonEl.disabled = true;  // To prevent multiple clicks.\n",
              "      quickchartButtonEl.classList.add('colab-df-spinner');\n",
              "      try {\n",
              "        const charts = await google.colab.kernel.invokeFunction(\n",
              "            'suggestCharts', [key], {});\n",
              "      } catch (error) {\n",
              "        console.error('Error during call to suggestCharts:', error);\n",
              "      }\n",
              "      quickchartButtonEl.classList.remove('colab-df-spinner');\n",
              "      quickchartButtonEl.classList.add('colab-df-quickchart-complete');\n",
              "    }\n",
              "    (() => {\n",
              "      let quickchartButtonEl =\n",
              "        document.querySelector('#df-dc74e542-9a17-4764-a381-4f6fbb6bcdd9 button');\n",
              "      quickchartButtonEl.style.display =\n",
              "        google.colab.kernel.accessAllowed ? 'block' : 'none';\n",
              "    })();\n",
              "  </script>\n",
              "</div>\n",
              "\n",
              "    </div>\n",
              "  </div>\n"
            ]
          },
          "metadata": {},
          "execution_count": 28
        }
      ]
    },
    {
      "cell_type": "code",
      "source": [
        "SENS_PARAM = 2.3\n",
        "STDDEV_PARAM = 300\n",
        "MEAN_PARAM = 300\n",
        "\n",
        "df['Rolling_Mean'] = df['Close'].shift(-1).rolling(window=MEAN_PARAM).mean()\n",
        "df['Rolling_Std_Dev'] = df['Close'].shift(-1).rolling(window=STDDEV_PARAM).std()\n",
        "df = df.iloc[STDDEV_PARAM:]\n",
        "\n",
        "def calculate_binary(row):\n",
        "    if row['Rolling_Std_Dev'] != 0:  # Avoid division by zero\n",
        "        if row['Close'] > row['Rolling_Mean'] + (row['Rolling_Std_Dev']  / SENS_PARAM):\n",
        "            return 2\n",
        "        elif row['Close'] < row['Rolling_Mean'] - (row[\"Rolling_Std_Dev\"] / SENS_PARAM):\n",
        "            return 0\n",
        "    return 1\n",
        "\n",
        "# Apply the function to create the \"Binary\" column\n",
        "df['Classification'] = df.apply(calculate_binary, axis=1)\n",
        "df.head(500)"
      ],
      "metadata": {
        "id": "Q685yF4hlNaO",
        "colab": {
          "base_uri": "https://localhost:8080/",
          "height": 455
        },
        "outputId": "a8f3374e-7f11-4497-dc31-0fcb97c7c996"
      },
      "execution_count": 29,
      "outputs": [
        {
          "output_type": "execute_result",
          "data": {
            "text/plain": [
              "                            Open   High    Low  Close  Volume  Rolling_Mean  \\\n",
              "Date                                                                          \n",
              "2018-12-14 14:35:12+00:00  64.30  64.30  64.29  64.29     375     64.229500   \n",
              "2018-12-14 14:35:13+00:00  64.30  64.30  64.30  64.30     200     64.228533   \n",
              "2018-12-14 14:35:14+00:00  64.29  64.31  64.29  64.30     250     64.227633   \n",
              "2018-12-14 14:35:15+00:00  64.29  64.29  64.27  64.27     339     64.226867   \n",
              "2018-12-14 14:35:16+00:00  64.27  64.27  64.26  64.26     504     64.225867   \n",
              "...                          ...    ...    ...    ...     ...           ...   \n",
              "2018-12-14 14:52:49+00:00  64.95  64.95  64.94  64.95    1591     64.720133   \n",
              "2018-12-14 14:52:51+00:00  64.95  64.95  64.95  64.95     100     64.721300   \n",
              "2018-12-14 14:52:52+00:00  64.93  64.93  64.93  64.93     400     64.722467   \n",
              "2018-12-14 14:52:53+00:00  64.92  64.93  64.91  64.93     410     64.723633   \n",
              "2018-12-14 14:53:00+00:00  64.92  64.92  64.92  64.92      10     64.724867   \n",
              "\n",
              "                           Rolling_Std_Dev  Classification  \n",
              "Date                                                        \n",
              "2018-12-14 14:35:12+00:00         0.272152               1  \n",
              "2018-12-14 14:35:13+00:00         0.271382               1  \n",
              "2018-12-14 14:35:14+00:00         0.270792               1  \n",
              "2018-12-14 14:35:15+00:00         0.270372               1  \n",
              "2018-12-14 14:35:16+00:00         0.269578               1  \n",
              "...                                    ...             ...  \n",
              "2018-12-14 14:52:49+00:00         0.230809               2  \n",
              "2018-12-14 14:52:51+00:00         0.230983               2  \n",
              "2018-12-14 14:52:52+00:00         0.231151               2  \n",
              "2018-12-14 14:52:53+00:00         0.231262               2  \n",
              "2018-12-14 14:53:00+00:00         0.231373               2  \n",
              "\n",
              "[500 rows x 8 columns]"
            ],
            "text/html": [
              "\n",
              "  <div id=\"df-b273af71-4f9c-450e-8f20-01cb47e0de91\" class=\"colab-df-container\">\n",
              "    <div>\n",
              "<style scoped>\n",
              "    .dataframe tbody tr th:only-of-type {\n",
              "        vertical-align: middle;\n",
              "    }\n",
              "\n",
              "    .dataframe tbody tr th {\n",
              "        vertical-align: top;\n",
              "    }\n",
              "\n",
              "    .dataframe thead th {\n",
              "        text-align: right;\n",
              "    }\n",
              "</style>\n",
              "<table border=\"1\" class=\"dataframe\">\n",
              "  <thead>\n",
              "    <tr style=\"text-align: right;\">\n",
              "      <th></th>\n",
              "      <th>Open</th>\n",
              "      <th>High</th>\n",
              "      <th>Low</th>\n",
              "      <th>Close</th>\n",
              "      <th>Volume</th>\n",
              "      <th>Rolling_Mean</th>\n",
              "      <th>Rolling_Std_Dev</th>\n",
              "      <th>Classification</th>\n",
              "    </tr>\n",
              "    <tr>\n",
              "      <th>Date</th>\n",
              "      <th></th>\n",
              "      <th></th>\n",
              "      <th></th>\n",
              "      <th></th>\n",
              "      <th></th>\n",
              "      <th></th>\n",
              "      <th></th>\n",
              "      <th></th>\n",
              "    </tr>\n",
              "  </thead>\n",
              "  <tbody>\n",
              "    <tr>\n",
              "      <th>2018-12-14 14:35:12+00:00</th>\n",
              "      <td>64.30</td>\n",
              "      <td>64.30</td>\n",
              "      <td>64.29</td>\n",
              "      <td>64.29</td>\n",
              "      <td>375</td>\n",
              "      <td>64.229500</td>\n",
              "      <td>0.272152</td>\n",
              "      <td>1</td>\n",
              "    </tr>\n",
              "    <tr>\n",
              "      <th>2018-12-14 14:35:13+00:00</th>\n",
              "      <td>64.30</td>\n",
              "      <td>64.30</td>\n",
              "      <td>64.30</td>\n",
              "      <td>64.30</td>\n",
              "      <td>200</td>\n",
              "      <td>64.228533</td>\n",
              "      <td>0.271382</td>\n",
              "      <td>1</td>\n",
              "    </tr>\n",
              "    <tr>\n",
              "      <th>2018-12-14 14:35:14+00:00</th>\n",
              "      <td>64.29</td>\n",
              "      <td>64.31</td>\n",
              "      <td>64.29</td>\n",
              "      <td>64.30</td>\n",
              "      <td>250</td>\n",
              "      <td>64.227633</td>\n",
              "      <td>0.270792</td>\n",
              "      <td>1</td>\n",
              "    </tr>\n",
              "    <tr>\n",
              "      <th>2018-12-14 14:35:15+00:00</th>\n",
              "      <td>64.29</td>\n",
              "      <td>64.29</td>\n",
              "      <td>64.27</td>\n",
              "      <td>64.27</td>\n",
              "      <td>339</td>\n",
              "      <td>64.226867</td>\n",
              "      <td>0.270372</td>\n",
              "      <td>1</td>\n",
              "    </tr>\n",
              "    <tr>\n",
              "      <th>2018-12-14 14:35:16+00:00</th>\n",
              "      <td>64.27</td>\n",
              "      <td>64.27</td>\n",
              "      <td>64.26</td>\n",
              "      <td>64.26</td>\n",
              "      <td>504</td>\n",
              "      <td>64.225867</td>\n",
              "      <td>0.269578</td>\n",
              "      <td>1</td>\n",
              "    </tr>\n",
              "    <tr>\n",
              "      <th>...</th>\n",
              "      <td>...</td>\n",
              "      <td>...</td>\n",
              "      <td>...</td>\n",
              "      <td>...</td>\n",
              "      <td>...</td>\n",
              "      <td>...</td>\n",
              "      <td>...</td>\n",
              "      <td>...</td>\n",
              "    </tr>\n",
              "    <tr>\n",
              "      <th>2018-12-14 14:52:49+00:00</th>\n",
              "      <td>64.95</td>\n",
              "      <td>64.95</td>\n",
              "      <td>64.94</td>\n",
              "      <td>64.95</td>\n",
              "      <td>1591</td>\n",
              "      <td>64.720133</td>\n",
              "      <td>0.230809</td>\n",
              "      <td>2</td>\n",
              "    </tr>\n",
              "    <tr>\n",
              "      <th>2018-12-14 14:52:51+00:00</th>\n",
              "      <td>64.95</td>\n",
              "      <td>64.95</td>\n",
              "      <td>64.95</td>\n",
              "      <td>64.95</td>\n",
              "      <td>100</td>\n",
              "      <td>64.721300</td>\n",
              "      <td>0.230983</td>\n",
              "      <td>2</td>\n",
              "    </tr>\n",
              "    <tr>\n",
              "      <th>2018-12-14 14:52:52+00:00</th>\n",
              "      <td>64.93</td>\n",
              "      <td>64.93</td>\n",
              "      <td>64.93</td>\n",
              "      <td>64.93</td>\n",
              "      <td>400</td>\n",
              "      <td>64.722467</td>\n",
              "      <td>0.231151</td>\n",
              "      <td>2</td>\n",
              "    </tr>\n",
              "    <tr>\n",
              "      <th>2018-12-14 14:52:53+00:00</th>\n",
              "      <td>64.92</td>\n",
              "      <td>64.93</td>\n",
              "      <td>64.91</td>\n",
              "      <td>64.93</td>\n",
              "      <td>410</td>\n",
              "      <td>64.723633</td>\n",
              "      <td>0.231262</td>\n",
              "      <td>2</td>\n",
              "    </tr>\n",
              "    <tr>\n",
              "      <th>2018-12-14 14:53:00+00:00</th>\n",
              "      <td>64.92</td>\n",
              "      <td>64.92</td>\n",
              "      <td>64.92</td>\n",
              "      <td>64.92</td>\n",
              "      <td>10</td>\n",
              "      <td>64.724867</td>\n",
              "      <td>0.231373</td>\n",
              "      <td>2</td>\n",
              "    </tr>\n",
              "  </tbody>\n",
              "</table>\n",
              "<p>500 rows × 8 columns</p>\n",
              "</div>\n",
              "    <div class=\"colab-df-buttons\">\n",
              "\n",
              "  <div class=\"colab-df-container\">\n",
              "    <button class=\"colab-df-convert\" onclick=\"convertToInteractive('df-b273af71-4f9c-450e-8f20-01cb47e0de91')\"\n",
              "            title=\"Convert this dataframe to an interactive table.\"\n",
              "            style=\"display:none;\">\n",
              "\n",
              "  <svg xmlns=\"http://www.w3.org/2000/svg\" height=\"24px\" viewBox=\"0 -960 960 960\">\n",
              "    <path d=\"M120-120v-720h720v720H120Zm60-500h600v-160H180v160Zm220 220h160v-160H400v160Zm0 220h160v-160H400v160ZM180-400h160v-160H180v160Zm440 0h160v-160H620v160ZM180-180h160v-160H180v160Zm440 0h160v-160H620v160Z\"/>\n",
              "  </svg>\n",
              "    </button>\n",
              "\n",
              "  <style>\n",
              "    .colab-df-container {\n",
              "      display:flex;\n",
              "      gap: 12px;\n",
              "    }\n",
              "\n",
              "    .colab-df-convert {\n",
              "      background-color: #E8F0FE;\n",
              "      border: none;\n",
              "      border-radius: 50%;\n",
              "      cursor: pointer;\n",
              "      display: none;\n",
              "      fill: #1967D2;\n",
              "      height: 32px;\n",
              "      padding: 0 0 0 0;\n",
              "      width: 32px;\n",
              "    }\n",
              "\n",
              "    .colab-df-convert:hover {\n",
              "      background-color: #E2EBFA;\n",
              "      box-shadow: 0px 1px 2px rgba(60, 64, 67, 0.3), 0px 1px 3px 1px rgba(60, 64, 67, 0.15);\n",
              "      fill: #174EA6;\n",
              "    }\n",
              "\n",
              "    .colab-df-buttons div {\n",
              "      margin-bottom: 4px;\n",
              "    }\n",
              "\n",
              "    [theme=dark] .colab-df-convert {\n",
              "      background-color: #3B4455;\n",
              "      fill: #D2E3FC;\n",
              "    }\n",
              "\n",
              "    [theme=dark] .colab-df-convert:hover {\n",
              "      background-color: #434B5C;\n",
              "      box-shadow: 0px 1px 3px 1px rgba(0, 0, 0, 0.15);\n",
              "      filter: drop-shadow(0px 1px 2px rgba(0, 0, 0, 0.3));\n",
              "      fill: #FFFFFF;\n",
              "    }\n",
              "  </style>\n",
              "\n",
              "    <script>\n",
              "      const buttonEl =\n",
              "        document.querySelector('#df-b273af71-4f9c-450e-8f20-01cb47e0de91 button.colab-df-convert');\n",
              "      buttonEl.style.display =\n",
              "        google.colab.kernel.accessAllowed ? 'block' : 'none';\n",
              "\n",
              "      async function convertToInteractive(key) {\n",
              "        const element = document.querySelector('#df-b273af71-4f9c-450e-8f20-01cb47e0de91');\n",
              "        const dataTable =\n",
              "          await google.colab.kernel.invokeFunction('convertToInteractive',\n",
              "                                                    [key], {});\n",
              "        if (!dataTable) return;\n",
              "\n",
              "        const docLinkHtml = 'Like what you see? Visit the ' +\n",
              "          '<a target=\"_blank\" href=https://colab.research.google.com/notebooks/data_table.ipynb>data table notebook</a>'\n",
              "          + ' to learn more about interactive tables.';\n",
              "        element.innerHTML = '';\n",
              "        dataTable['output_type'] = 'display_data';\n",
              "        await google.colab.output.renderOutput(dataTable, element);\n",
              "        const docLink = document.createElement('div');\n",
              "        docLink.innerHTML = docLinkHtml;\n",
              "        element.appendChild(docLink);\n",
              "      }\n",
              "    </script>\n",
              "  </div>\n",
              "\n",
              "\n",
              "<div id=\"df-3b6efe15-98f0-48a4-a5db-74e3515d6234\">\n",
              "  <button class=\"colab-df-quickchart\" onclick=\"quickchart('df-3b6efe15-98f0-48a4-a5db-74e3515d6234')\"\n",
              "            title=\"Suggest charts\"\n",
              "            style=\"display:none;\">\n",
              "\n",
              "<svg xmlns=\"http://www.w3.org/2000/svg\" height=\"24px\"viewBox=\"0 0 24 24\"\n",
              "     width=\"24px\">\n",
              "    <g>\n",
              "        <path d=\"M19 3H5c-1.1 0-2 .9-2 2v14c0 1.1.9 2 2 2h14c1.1 0 2-.9 2-2V5c0-1.1-.9-2-2-2zM9 17H7v-7h2v7zm4 0h-2V7h2v10zm4 0h-2v-4h2v4z\"/>\n",
              "    </g>\n",
              "</svg>\n",
              "  </button>\n",
              "\n",
              "<style>\n",
              "  .colab-df-quickchart {\n",
              "      --bg-color: #E8F0FE;\n",
              "      --fill-color: #1967D2;\n",
              "      --hover-bg-color: #E2EBFA;\n",
              "      --hover-fill-color: #174EA6;\n",
              "      --disabled-fill-color: #AAA;\n",
              "      --disabled-bg-color: #DDD;\n",
              "  }\n",
              "\n",
              "  [theme=dark] .colab-df-quickchart {\n",
              "      --bg-color: #3B4455;\n",
              "      --fill-color: #D2E3FC;\n",
              "      --hover-bg-color: #434B5C;\n",
              "      --hover-fill-color: #FFFFFF;\n",
              "      --disabled-bg-color: #3B4455;\n",
              "      --disabled-fill-color: #666;\n",
              "  }\n",
              "\n",
              "  .colab-df-quickchart {\n",
              "    background-color: var(--bg-color);\n",
              "    border: none;\n",
              "    border-radius: 50%;\n",
              "    cursor: pointer;\n",
              "    display: none;\n",
              "    fill: var(--fill-color);\n",
              "    height: 32px;\n",
              "    padding: 0;\n",
              "    width: 32px;\n",
              "  }\n",
              "\n",
              "  .colab-df-quickchart:hover {\n",
              "    background-color: var(--hover-bg-color);\n",
              "    box-shadow: 0 1px 2px rgba(60, 64, 67, 0.3), 0 1px 3px 1px rgba(60, 64, 67, 0.15);\n",
              "    fill: var(--button-hover-fill-color);\n",
              "  }\n",
              "\n",
              "  .colab-df-quickchart-complete:disabled,\n",
              "  .colab-df-quickchart-complete:disabled:hover {\n",
              "    background-color: var(--disabled-bg-color);\n",
              "    fill: var(--disabled-fill-color);\n",
              "    box-shadow: none;\n",
              "  }\n",
              "\n",
              "  .colab-df-spinner {\n",
              "    border: 2px solid var(--fill-color);\n",
              "    border-color: transparent;\n",
              "    border-bottom-color: var(--fill-color);\n",
              "    animation:\n",
              "      spin 1s steps(1) infinite;\n",
              "  }\n",
              "\n",
              "  @keyframes spin {\n",
              "    0% {\n",
              "      border-color: transparent;\n",
              "      border-bottom-color: var(--fill-color);\n",
              "      border-left-color: var(--fill-color);\n",
              "    }\n",
              "    20% {\n",
              "      border-color: transparent;\n",
              "      border-left-color: var(--fill-color);\n",
              "      border-top-color: var(--fill-color);\n",
              "    }\n",
              "    30% {\n",
              "      border-color: transparent;\n",
              "      border-left-color: var(--fill-color);\n",
              "      border-top-color: var(--fill-color);\n",
              "      border-right-color: var(--fill-color);\n",
              "    }\n",
              "    40% {\n",
              "      border-color: transparent;\n",
              "      border-right-color: var(--fill-color);\n",
              "      border-top-color: var(--fill-color);\n",
              "    }\n",
              "    60% {\n",
              "      border-color: transparent;\n",
              "      border-right-color: var(--fill-color);\n",
              "    }\n",
              "    80% {\n",
              "      border-color: transparent;\n",
              "      border-right-color: var(--fill-color);\n",
              "      border-bottom-color: var(--fill-color);\n",
              "    }\n",
              "    90% {\n",
              "      border-color: transparent;\n",
              "      border-bottom-color: var(--fill-color);\n",
              "    }\n",
              "  }\n",
              "</style>\n",
              "\n",
              "  <script>\n",
              "    async function quickchart(key) {\n",
              "      const quickchartButtonEl =\n",
              "        document.querySelector('#' + key + ' button');\n",
              "      quickchartButtonEl.disabled = true;  // To prevent multiple clicks.\n",
              "      quickchartButtonEl.classList.add('colab-df-spinner');\n",
              "      try {\n",
              "        const charts = await google.colab.kernel.invokeFunction(\n",
              "            'suggestCharts', [key], {});\n",
              "      } catch (error) {\n",
              "        console.error('Error during call to suggestCharts:', error);\n",
              "      }\n",
              "      quickchartButtonEl.classList.remove('colab-df-spinner');\n",
              "      quickchartButtonEl.classList.add('colab-df-quickchart-complete');\n",
              "    }\n",
              "    (() => {\n",
              "      let quickchartButtonEl =\n",
              "        document.querySelector('#df-3b6efe15-98f0-48a4-a5db-74e3515d6234 button');\n",
              "      quickchartButtonEl.style.display =\n",
              "        google.colab.kernel.accessAllowed ? 'block' : 'none';\n",
              "    })();\n",
              "  </script>\n",
              "</div>\n",
              "\n",
              "    </div>\n",
              "  </div>\n"
            ]
          },
          "metadata": {},
          "execution_count": 29
        }
      ]
    },
    {
      "cell_type": "code",
      "source": [
        "counts_2 = (df['Classification'] == 2).sum()\n",
        "counts_1 = (df['Classification'] == 1).sum()\n",
        "counts_0 = (df['Classification'] == 0).sum()\n",
        "\n",
        "# Print the counts\n",
        "print(f\"Count of 2s: {counts_2}\")\n",
        "print(f\"Count of 1s: {counts_1}\")\n",
        "print(f\"Count of 0s: {counts_0}\")"
      ],
      "metadata": {
        "colab": {
          "base_uri": "https://localhost:8080/"
        },
        "id": "pTEKkj4d4uhl",
        "outputId": "ad3e1c9e-9821-483b-d1ba-9fcec3cfc8e9"
      },
      "execution_count": 30,
      "outputs": [
        {
          "output_type": "stream",
          "name": "stdout",
          "text": [
            "Count of 2s: 41680\n",
            "Count of 1s: 17407\n",
            "Count of 0s: 40613\n"
          ]
        }
      ]
    },
    {
      "cell_type": "code",
      "source": [
        "df_scaled = df #lazyness\n",
        "df_scaled_val = df_scaled[80000:]\n",
        "df_scaled = df_scaled[0: 80000]\n",
        "print(df_scaled_val.shape, df_scaled.shape)\n",
        "train_percent = 0.75\n",
        "embargo_pct = 0.1\n",
        "features = len(df_scaled.columns)\n",
        "data_samples = 90\n",
        "\n",
        "test_percent = (1-train_percent+embargo_pct)\n",
        "\n",
        "train_N = int((train_percent*len(df_scaled)))\n",
        "test_N = int((test_percent*len(df_scaled)))\n",
        "\n",
        "train_data = df_scaled.iloc[0:train_N]\n",
        "test_data = df_scaled[-test_N:]\n",
        "\n",
        "print(train_N)\n",
        "print(test_N)\n",
        "print(features)"
      ],
      "metadata": {
        "colab": {
          "base_uri": "https://localhost:8080/"
        },
        "id": "gMSJ5St0L_Px",
        "outputId": "c2f57e74-3089-48ee-a421-a99a76b02ea0"
      },
      "execution_count": 31,
      "outputs": [
        {
          "output_type": "stream",
          "name": "stdout",
          "text": [
            "(19700, 8) (80000, 8)\n",
            "60000\n",
            "28000\n",
            "8\n"
          ]
        }
      ]
    },
    {
      "cell_type": "code",
      "source": [
        "x_train=[]\n",
        "y_train=[]\n",
        "\n",
        "x_test = []\n",
        "y_test = []\n",
        "\n",
        "index_of_opt = features-1\n",
        "\n",
        "for i in range(data_samples, train_N):\n",
        "    x_train.append(train_data.iloc[i - data_samples:i].values)\n",
        "    y_train.append(train_data.iloc[i][index_of_opt])\n",
        "\n",
        "for i in range(data_samples, test_N):\n",
        "    x_test.append(test_data.iloc[i - data_samples:i].values)\n",
        "    y_test.append(test_data.iloc[i][index_of_opt])\n",
        "\n",
        "\n",
        "x_train = np.array(x_train)\n",
        "y_train = np.array(y_train)\n",
        "x_test = np.array(x_test)\n",
        "y_test = np.array(y_test)"
      ],
      "metadata": {
        "id": "n7rg9zqkULG0"
      },
      "execution_count": 9,
      "outputs": []
    },
    {
      "cell_type": "code",
      "source": [
        "print(x_train.shape)\n",
        "print(y_train.shape)\n",
        "print(x_test.shape)\n",
        "print(y_test.shape)"
      ],
      "metadata": {
        "colab": {
          "base_uri": "https://localhost:8080/"
        },
        "id": "8ZxpfgVoY9Vw",
        "outputId": "15de5934-3105-4c8d-a1ce-d9110c33cdeb"
      },
      "execution_count": 10,
      "outputs": [
        {
          "output_type": "stream",
          "name": "stdout",
          "text": [
            "(59910, 90, 8)\n",
            "(59910,)\n",
            "(27910, 90, 8)\n",
            "(27910,)\n"
          ]
        }
      ]
    },
    {
      "cell_type": "code",
      "source": [
        "learning_rate = 0.001\n",
        "momentum = 0.1\n",
        "epochs = 3\n",
        "\n",
        "batch_size = 32\n",
        "\n",
        "model = tf.keras.Sequential([\n",
        "    tf.keras.layers.LSTM(50, activation='tanh', input_shape=(data_samples,features), return_sequences=False),\n",
        "    tf.keras.layers.Dense(3)\n",
        "])"
      ],
      "metadata": {
        "id": "prU0B84cUgcP"
      },
      "execution_count": 11,
      "outputs": []
    },
    {
      "cell_type": "code",
      "source": [
        "optimizer1 = tf.keras.optimizers.Adam(learning_rate=learning_rate)\n",
        "\n",
        "model.summary()\n",
        "\n",
        "\n",
        "model.compile(optimizer=optimizer1, loss=tf.keras.losses.SparseCategoricalCrossentropy(from_logits=True), metrics=['accuracy'])\n",
        "train_history = model.fit(x_train, y_train, epochs=epochs, batch_size=batch_size, validation_data=(x_test, y_test))"
      ],
      "metadata": {
        "colab": {
          "base_uri": "https://localhost:8080/"
        },
        "id": "brMEkyozVoIi",
        "outputId": "e7e3e145-9b60-40b1-8226-26a340aa9da5"
      },
      "execution_count": 12,
      "outputs": [
        {
          "output_type": "stream",
          "name": "stdout",
          "text": [
            "Model: \"sequential\"\n",
            "_________________________________________________________________\n",
            " Layer (type)                Output Shape              Param #   \n",
            "=================================================================\n",
            " lstm (LSTM)                 (None, 50)                11800     \n",
            "                                                                 \n",
            " dense (Dense)               (None, 3)                 153       \n",
            "                                                                 \n",
            "=================================================================\n",
            "Total params: 11953 (46.69 KB)\n",
            "Trainable params: 11953 (46.69 KB)\n",
            "Non-trainable params: 0 (0.00 Byte)\n",
            "_________________________________________________________________\n",
            "Epoch 1/3\n",
            "1873/1873 [==============================] - 98s 51ms/step - loss: 0.5310 - accuracy: 0.7965 - val_loss: 0.2660 - val_accuracy: 0.9078\n",
            "Epoch 2/3\n",
            "1873/1873 [==============================] - 85s 45ms/step - loss: 0.2411 - accuracy: 0.9242 - val_loss: 0.2055 - val_accuracy: 0.9360\n",
            "Epoch 3/3\n",
            "1873/1873 [==============================] - 94s 50ms/step - loss: 0.2230 - accuracy: 0.9322 - val_loss: 0.2538 - val_accuracy: 0.9224\n"
          ]
        }
      ]
    },
    {
      "cell_type": "code",
      "source": [
        "def plot_training_history(history):\n",
        "    train_loss = history.history['loss']\n",
        "    test_loss = history.history['val_loss']\n",
        "    epochs = range(len(train_loss))\n",
        "\n",
        "    # plot loss\n",
        "    plt.clf()\n",
        "    fig = plt.figure()\n",
        "    plt.plot(train_loss, label='train_loss')\n",
        "    plt.plot(test_loss, label='test_loss')\n",
        "    plt.xlabel('Epoch')\n",
        "    plt.ylabel('Loss')\n",
        "    plt.legend(loc='best')\n",
        "    plt.title('Training and Testing Loss')\n",
        "    plt.show()"
      ],
      "metadata": {
        "id": "JfMknospYx8G"
      },
      "execution_count": 13,
      "outputs": []
    },
    {
      "cell_type": "code",
      "source": [
        "plot_training_history(train_history)"
      ],
      "metadata": {
        "id": "pYSS-4NQhTs4",
        "colab": {
          "base_uri": "https://localhost:8080/",
          "height": 489
        },
        "outputId": "6eed481f-5730-48b3-e626-55e7c2908f6e"
      },
      "execution_count": 14,
      "outputs": [
        {
          "output_type": "display_data",
          "data": {
            "text/plain": [
              "<Figure size 640x480 with 0 Axes>"
            ]
          },
          "metadata": {}
        },
        {
          "output_type": "display_data",
          "data": {
            "text/plain": [
              "<Figure size 640x480 with 1 Axes>"
            ],
            "image/png": "[encoded data removed]"
          },
          "metadata": {}
        }
      ]
    },
    {
      "cell_type": "code",
      "source": [
        "predicted_train = model.predict(x_train)\n",
        "predicted_test = model.predict(x_test)\n",
        "\n",
        "predicted_train_labels = np.argmax(predicted_train, axis=1)\n",
        "predicted_test_labels = np.argmax(predicted_test, axis=1)\n",
        "\n",
        "# Assuming your y_train and y_test are already in the correct format (0, 1, 2)\n",
        "# If they're not (e.g., if they're -1, 0, 1), you'll need to adjust them accordingly\n",
        "# y_train_adjusted = y_train + 1\n",
        "# y_test_adjusted = y_test + 1\n",
        "\n",
        "# Plotting histograms\n",
        "# For training predictions\n",
        "plt.figure(figsize=(14, 6))\n",
        "\n",
        "plt.subplot(1, 2, 1)\n",
        "plt.hist([predicted_train_labels, y_train], label=['Predicted', 'Actual'], bins=np.arange(-0.5, 3, 1), alpha=0.7)\n",
        "plt.xticks([0, 1, 2])\n",
        "plt.title('Training Data Class Distribution')\n",
        "plt.xlabel('Class')\n",
        "plt.ylabel('Frequency')\n",
        "plt.legend()\n",
        "\n",
        "# For test predictions\n",
        "plt.subplot(1, 2, 2)\n",
        "plt.hist([predicted_test_labels, y_test], label=['Predicted', 'Actual'], bins=np.arange(-0.5, 3, 1), alpha=0.7)\n",
        "plt.xticks([0, 1, 2])\n",
        "plt.title('Test Data Class Distribution')\n",
        "plt.xlabel('Class')\n",
        "plt.ylabel('Frequency')\n",
        "plt.legend()\n",
        "\n",
        "plt.tight_layout()\n",
        "plt.show()"
      ],
      "metadata": {
        "id": "2WGOuovxhT6j",
        "colab": {
          "base_uri": "https://localhost:8080/",
          "height": 642
        },
        "outputId": "a23dd721-320e-43f0-905a-bf1d4cd12711"
      },
      "execution_count": 15,
      "outputs": [
        {
          "output_type": "stream",
          "name": "stdout",
          "text": [
            "1873/1873 [==============================] - 26s 14ms/step\n",
            "873/873 [==============================] - 12s 14ms/step\n"
          ]
        },
        {
          "output_type": "display_data",
          "data": {
            "text/plain": [
              "<Figure size 1400x600 with 2 Axes>"
            ],
            "image/png": "[encoded data removed]"
          },
          "metadata": {}
        }
      ]
    },
    {
      "cell_type": "code",
      "source": [
        "print(x_train[0].shape)\n",
        "print((predicted_train[0]))\n",
        "print(y_test[0])"
      ],
      "metadata": {
        "colab": {
          "base_uri": "https://localhost:8080/"
        },
        "id": "jqSVqOa-iQXF",
        "outputId": "142f8758-92d7-44c8-e3c7-e287b1e2d53b"
      },
      "execution_count": 16,
      "outputs": [
        {
          "output_type": "stream",
          "name": "stdout",
          "text": [
            "(90, 8)\n",
            "[-6.0321083 -0.7914014  3.7478528]\n",
            "0.0\n"
          ]
        }
      ]
    },
    {
      "cell_type": "code",
      "source": [
        "def plot_class_distributions(predicted_train_labels, y_train, predicted_test_labels, y_test, adjust_labels=False):\n",
        "    # Plotting histograms\n",
        "    plt.figure(figsize=(14, 6))\n",
        "\n",
        "    # For training predictions\n",
        "    plt.subplot(1, 2, 1)\n",
        "    plt.hist([predicted_train_labels, y_train], label=['Predicted', 'Actual'], bins=np.arange(-0.5, max(y_train.max(), predicted_train_labels.max()) + 1.5, 1), alpha=0.7)\n",
        "    plt.xticks(np.arange(0, max(y_train.max(), predicted_train_labels.max()) + 1))\n",
        "    plt.title('Training Data Class Distribution')\n",
        "    plt.xlabel('Class')\n",
        "    plt.ylabel('Frequency')\n",
        "    plt.legend()\n",
        "\n",
        "    # For test predictions\n",
        "    plt.subplot(1, 2, 2)\n",
        "    plt.hist([predicted_test_labels, y_test], label=['Predicted', 'Actual'], bins=np.arange(-0.5, max(y_test.max(), predicted_test_labels.max()) + 1.5, 1), alpha=0.7)\n",
        "    plt.xticks(np.arange(0, max(y_test.max(), predicted_test_labels.max()) + 1))\n",
        "    plt.title('Test Data Class Distribution')\n",
        "    plt.xlabel('Class')\n",
        "    plt.ylabel('Frequency')\n",
        "    plt.legend()\n",
        "\n",
        "    plt.tight_layout()\n",
        "    plt.show()"
      ],
      "metadata": {
        "id": "5rOSNbnSl2Wl"
      },
      "execution_count": 17,
      "outputs": []
    },
    {
      "cell_type": "code",
      "source": [
        "plot_class_distributions(predicted_train_labels, y_train, predicted_test_labels, y_test)  # Set adjust_labels as needed\n"
      ],
      "metadata": {
        "colab": {
          "base_uri": "https://localhost:8080/",
          "height": 607
        },
        "id": "nmiK7FSqDaVr",
        "outputId": "38477a29-cd05-4e02-aaa0-482add0b2d6a"
      },
      "execution_count": 18,
      "outputs": [
        {
          "output_type": "display_data",
          "data": {
            "text/plain": [
              "<Figure size 1400x600 with 2 Axes>"
            ],
            "image/png": "[encoded data removed]"
          },
          "metadata": {}
        }
      ]
    },
    {
      "cell_type": "code",
      "source": [
        "#Backtesting\n",
        "\n",
        "val_data = df_scaled_val\n",
        "val_N = int((len(val_data)))\n",
        "\n",
        "x_val = []\n",
        "y_val = []\n",
        "\n",
        "for i in range(data_samples, val_N):\n",
        "    x_val.append(val_data.iloc[i - data_samples:i].values)\n",
        "    y_val.append(val_data.iloc[i][index_of_opt])\n",
        "\n",
        "# predicted = model.predict(val_data)\n",
        "x_val = np.array(x_val)\n",
        "y_val = np.array(y_val)\n",
        "print(x_val.shape)\n",
        "\n",
        "\n",
        "\n"
      ],
      "metadata": {
        "colab": {
          "base_uri": "https://localhost:8080/"
        },
        "id": "wi9EJYehDb9P",
        "outputId": "2bd1c185-da67-4bce-e10f-7fb1c153074e"
      },
      "execution_count": 19,
      "outputs": [
        {
          "output_type": "stream",
          "name": "stdout",
          "text": [
            "(19610, 90, 8)\n"
          ]
        }
      ]
    },
    {
      "cell_type": "code",
      "source": [
        "val_pred = model.predict(x_val)"
      ],
      "metadata": {
        "colab": {
          "base_uri": "https://localhost:8080/"
        },
        "id": "mU-Mxm71RRx-",
        "outputId": "235c7971-a0d9-4dca-9620-d053d240e1d7"
      },
      "execution_count": 20,
      "outputs": [
        {
          "output_type": "stream",
          "name": "stdout",
          "text": [
            "613/613 [==============================] - 9s 14ms/step\n"
          ]
        }
      ]
    },
    {
      "cell_type": "code",
      "source": [
        "predicted_val_labels = np.argmax(val_pred, axis=1)\n",
        "print(predicted_val_labels.shape)\n",
        "print(x_val.shape)\n",
        "print(val_data['Close'][0])"
      ],
      "metadata": {
        "colab": {
          "base_uri": "https://localhost:8080/"
        },
        "id": "eSO5Y7iwRyAJ",
        "outputId": "d74b0480-8a94-4201-eb18-cc3c68f483a8"
      },
      "execution_count": 21,
      "outputs": [
        {
          "output_type": "stream",
          "name": "stdout",
          "text": [
            "(19610,)\n",
            "(19610, 90, 8)\n",
            "64.27\n"
          ]
        }
      ]
    },
    {
      "cell_type": "code",
      "source": [
        "profit = 0\n",
        "account = 1\n",
        "counter = 0\n",
        "loss_counter = 0\n",
        "for curr_ts in range(len(x_val) - 2):\n",
        "  profit += y_val[curr_ts] * (val_data['Close'][curr_ts + 1] - val_data['Close'][curr_ts])\n",
        "  if y_val[curr_ts] == 0:\n",
        "    account *= (val_data['Close'][curr_ts] / val_data['Close'][curr_ts + 1])\n",
        "    if (val_data['Close'][curr_ts] / val_data['Close'][curr_ts + 1]) < 1:\n",
        "      loss_counter += 1\n",
        "  elif y_val[curr_ts] == 2:\n",
        "    account *= (val_data['Close'][curr_ts + 1] / val_data['Close'][curr_ts])\n",
        "    if (val_data['Close'][curr_ts + 1] / val_data['Close'][curr_ts]) < 1:\n",
        "      loss_counter += 1\n",
        "  counter += 1\n",
        "\n"
      ],
      "metadata": {
        "id": "DzWpY4HmYbc6"
      },
      "execution_count": 22,
      "outputs": []
    },
    {
      "cell_type": "code",
      "source": [
        "print(\"$\",profit)\n",
        "print(account)\n",
        "print((loss_counter / counter) * 100)"
      ],
      "metadata": {
        "colab": {
          "base_uri": "https://localhost:8080/"
        },
        "id": "qWrl23yQajO-",
        "outputId": "85866e56-1a12-47ad-960f-2fa894511e46"
      },
      "execution_count": 23,
      "outputs": [
        {
          "output_type": "stream",
          "name": "stdout",
          "text": [
            "$ 13.784999999999968\n",
            "1.2523965219191497\n",
            "21.3484292125663\n"
          ]
        }
      ]
    },
    {
      "cell_type": "code",
      "source": [
        "# y_val\n",
        "# predicted_val_labels\n",
        "ground_truth = y_val[:100]\n",
        "predicted = predicted_val_labels[:100]\n",
        "\n",
        "# print(val_data.iloc[0].name)\n",
        "\n",
        "plt.figure()\n",
        "\n",
        "for i in range(len(predicted) - 1):\n",
        "    if ground_truth[i] == predicted[i]:\n",
        "        plt.plot([val_data.iloc[i].name, val_data.iloc[i + 1].name], [val_data['Close'][i], val_data['Close'][i + 1]], 'go', linestyle='solid')  # Correct prediction, green\n",
        "    else:\n",
        "        plt.plot([val_data.iloc[i].name, val_data.iloc[i + 1].name], [val_data['Close'][i], val_data['Close'][i + 1]], 'ro', linestyle='solid')  # Incorrect prediction, red\n",
        "\n",
        "# if predicted[99] == ground_truth[99]:\n",
        "#     plt.plot(val_data.iloc[99].name, val_data['Close'][99], 'go')\n",
        "# else:\n",
        "#     plt.plot(val_data.iloc[99].name, val_data['Close'][99], 'ro')\n",
        "\n",
        "plt.xlabel('Time')\n",
        "plt.ylabel('Price')\n",
        "plt.title('Predictions vs Ground Truths')\n",
        "# plt.legend()\n",
        "plt.xticks(rotation=45)\n",
        "# plt.grid(True)\n",
        "plt.show()\n"
      ],
      "metadata": {
        "colab": {
          "base_uri": "https://localhost:8080/",
          "height": 511
        },
        "id": "ica8Kmif2tvK",
        "outputId": "024f06cc-7775-47eb-959a-aed914bcd914"
      },
      "execution_count": 24,
      "outputs": [
        {
          "output_type": "display_data",
          "data": {
            "text/plain": [
              "<Figure size 640x480 with 1 Axes>"
            ],
            "image/png": "[encoded data removed]"
          },
          "metadata": {}
        }
      ]
    }
  ]
}